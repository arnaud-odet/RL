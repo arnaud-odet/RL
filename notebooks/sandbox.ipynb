{
 "cells": [
  {
   "cell_type": "code",
   "execution_count": 8,
   "metadata": {},
   "outputs": [],
   "source": [
    "import pandas as pd\n",
    "import numpy as np\n",
    "import matplotlib.pyplot as plt\n",
    "\n",
    "%reload_ext autoreload\n",
    "%autoreload 2"
   ]
  },
  {
   "cell_type": "code",
   "execution_count": 19,
   "metadata": {},
   "outputs": [
    {
     "data": {
      "text/plain": [
       "(np.float64(0.5249791874789399),\n",
       " np.float64(0.7964304128897277),\n",
       " np.float64(0.47502081252106))"
      ]
     },
     "execution_count": 19,
     "metadata": {},
     "output_type": "execute_result"
    }
   ],
   "source": [
    "t1s = 1\n",
    "t2s = 0.9\n",
    "max_draw_prob = 0.3\n",
    "# Base probability of team1 winning\n",
    "strength_diff = t1s - t2s\n",
    "win_prob = 1 / (1 + np.exp(-strength_diff))\n",
    "loss_prob = 1 / (1 + np.exp(+strength_diff))\n",
    "# Draw probability inversely proportional to strength difference\n",
    "# Maximum draw probability is 0.3 when strengths are equal\n",
    "draw_prob = max_draw_prob * np.exp(-abs(strength_diff))\n",
    "\n",
    "win_prob, win_prob + draw_prob, loss_prob"
   ]
  },
  {
   "cell_type": "code",
   "execution_count": 6,
   "metadata": {},
   "outputs": [
    {
     "name": "stdout",
     "output_type": "stream",
     "text": [
      "1\n",
      "65\n",
      "1234\n"
     ]
    }
   ],
   "source": [
    "s1 = 'training_history_1.npy'\n",
    "s2 = 'traning_history_65.npy'\n",
    "s3 = 'training_history_1234.npy'\n",
    "ss = [s1,s2,s3]\n",
    "\n",
    "for s in ss :\n",
    "    l = s.split('_')\n",
    "    nb = l[-1][:-4]\n",
    "    print(nb)"
   ]
  },
  {
   "cell_type": "markdown",
   "metadata": {},
   "source": []
  },
  {
   "cell_type": "code",
   "execution_count": 13,
   "metadata": {},
   "outputs": [
    {
     "data": {
      "text/plain": [
       "array([[1, 4],\n",
       "       [2, 5],\n",
       "       [3, 6],\n",
       "       [9, 7]])"
      ]
     },
     "execution_count": 13,
     "metadata": {},
     "output_type": "execute_result"
    }
   ],
   "source": [
    "\n",
    "a = [1,2,3,9]\n",
    "b = [4,5,6,7]\n",
    "np.array([a]+[b]).T"
   ]
  },
  {
   "cell_type": "code",
   "execution_count": 23,
   "metadata": {},
   "outputs": [
    {
     "data": {
      "text/plain": [
       "([60, 30], [12, 15])"
      ]
     },
     "execution_count": 23,
     "metadata": {},
     "output_type": "execute_result"
    }
   ],
   "source": [
    "[x for _, x in sorted(zip([15,12], [30,60]))], sorted([15,12])"
   ]
  },
  {
   "cell_type": "code",
   "execution_count": 1,
   "metadata": {},
   "outputs": [
    {
     "data": {
      "text/plain": [
       "3"
      ]
     },
     "execution_count": 1,
     "metadata": {},
     "output_type": "execute_result"
    }
   ],
   "source": [
    "sum([1,2])"
   ]
  },
  {
   "cell_type": "code",
   "execution_count": 2,
   "metadata": {},
   "outputs": [
    {
     "data": {
      "text/plain": [
       "34"
      ]
     },
     "execution_count": 2,
     "metadata": {},
     "output_type": "execute_result"
    }
   ],
   "source": [
    "len(\"Std Reward | Top-4 % | Top-12 % | \")"
   ]
  }
 ],
 "metadata": {
  "kernelspec": {
   "display_name": "rl_env",
   "language": "python",
   "name": "python3"
  },
  "language_info": {
   "codemirror_mode": {
    "name": "ipython",
    "version": 3
   },
   "file_extension": ".py",
   "mimetype": "text/x-python",
   "name": "python",
   "nbconvert_exporter": "python",
   "pygments_lexer": "ipython3",
   "version": "3.10.6"
  }
 },
 "nbformat": 4,
 "nbformat_minor": 2
}
