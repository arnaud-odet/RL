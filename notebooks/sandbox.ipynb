{
 "cells": [
  {
   "cell_type": "code",
   "execution_count": 1,
   "metadata": {},
   "outputs": [],
   "source": [
    "import pandas as pd\n",
    "import numpy as np\n",
    "import matplotlib.pyplot as plt\n",
    "import os\n",
    "%reload_ext autoreload\n",
    "%autoreload 2"
   ]
  },
  {
   "cell_type": "code",
   "execution_count": 19,
   "metadata": {},
   "outputs": [
    {
     "data": {
      "text/plain": [
       "(np.float64(0.5249791874789399),\n",
       " np.float64(0.7964304128897277),\n",
       " np.float64(0.47502081252106))"
      ]
     },
     "execution_count": 19,
     "metadata": {},
     "output_type": "execute_result"
    }
   ],
   "source": [
    "t1s = 1\n",
    "t2s = 0.9\n",
    "max_draw_prob = 0.3\n",
    "# Base probability of team1 winning\n",
    "strength_diff = t1s - t2s\n",
    "win_prob = 1 / (1 + np.exp(-strength_diff))\n",
    "loss_prob = 1 / (1 + np.exp(+strength_diff))\n",
    "# Draw probability inversely proportional to strength difference\n",
    "# Maximum draw probability is 0.3 when strengths are equal\n",
    "draw_prob = max_draw_prob * np.exp(-abs(strength_diff))\n",
    "\n",
    "win_prob, win_prob + draw_prob, loss_prob"
   ]
  },
  {
   "cell_type": "code",
   "execution_count": 6,
   "metadata": {},
   "outputs": [
    {
     "name": "stdout",
     "output_type": "stream",
     "text": [
      "1\n",
      "65\n",
      "1234\n"
     ]
    }
   ],
   "source": [
    "s1 = 'training_history_1.npy'\n",
    "s2 = 'traning_history_65.npy'\n",
    "s3 = 'training_history_1234.npy'\n",
    "ss = [s1,s2,s3]\n",
    "\n",
    "for s in ss :\n",
    "    l = s.split('_')\n",
    "    nb = l[-1][:-4]\n",
    "    print(nb)"
   ]
  },
  {
   "cell_type": "code",
   "execution_count": 7,
   "metadata": {},
   "outputs": [
    {
     "data": {
      "text/plain": [
       "2"
      ]
     },
     "execution_count": 7,
     "metadata": {},
     "output_type": "execute_result"
    }
   ],
   "source": [
    "log_folder = \"/home/admin/code/arnaud-odet/2_projets/reinforcement_learning/logs\"\n",
    "\n",
    "filepath = os.path.join(log_folder, 'exp_logs.csv')\n",
    "os.path.exists(filepath)\n",
    "ldf = pd.read_csv(filepath, index_col=0)\n",
    "pass_exp_ids = [int(s.split('_')[-1]) for s in ldf['exp_id']]\n",
    "pass_exp_ids\n",
    "exp_id = max(pass_exp_ids)\n",
    "exp_id +1"
   ]
  },
  {
   "cell_type": "code",
   "execution_count": 13,
   "metadata": {},
   "outputs": [
    {
     "data": {
      "text/plain": [
       "array([[1, 4],\n",
       "       [2, 5],\n",
       "       [3, 6],\n",
       "       [9, 7]])"
      ]
     },
     "execution_count": 13,
     "metadata": {},
     "output_type": "execute_result"
    }
   ],
   "source": [
    "\n",
    "a = [1,2,3,9]\n",
    "b = [4,5,6,7]\n",
    "np.array([a]+[b]).T"
   ]
  },
  {
   "cell_type": "code",
   "execution_count": 23,
   "metadata": {},
   "outputs": [
    {
     "data": {
      "text/plain": [
       "([60, 30], [12, 15])"
      ]
     },
     "execution_count": 23,
     "metadata": {},
     "output_type": "execute_result"
    }
   ],
   "source": [
    "[x for _, x in sorted(zip([15,12], [30,60]))], sorted([15,12])"
   ]
  },
  {
   "cell_type": "code",
   "execution_count": 1,
   "metadata": {},
   "outputs": [
    {
     "data": {
      "text/plain": [
       "3"
      ]
     },
     "execution_count": 1,
     "metadata": {},
     "output_type": "execute_result"
    }
   ],
   "source": [
    "sum([1,2])"
   ]
  },
  {
   "cell_type": "code",
   "execution_count": 2,
   "metadata": {},
   "outputs": [
    {
     "data": {
      "text/plain": [
       "34"
      ]
     },
     "execution_count": 2,
     "metadata": {},
     "output_type": "execute_result"
    }
   ],
   "source": [
    "len(\"Std Reward | Top-4 % | Top-12 % | \")"
   ]
  },
  {
   "cell_type": "code",
   "execution_count": 6,
   "metadata": {},
   "outputs": [
    {
     "name": "stdout",
     "output_type": "stream",
     "text": [
      "Episode        0/12000 | \n",
      "Episode      100/12000 | \n",
      "Episode      200/12000 | \n",
      "Episode      300/12000 | \n",
      "Episode      400/12000 | \n",
      "Episode      500/12000 | \n",
      "Episode      600/12000 | \n",
      "Episode      700/12000 | \n",
      "Episode      800/12000 | \n",
      "Episode      900/12000 | \n",
      "Episode     1000/12000 | \n",
      "Episode     1100/12000 | \n",
      "Episode     1200/12000 | \n",
      "Episode     1300/12000 | \n",
      "Episode     1400/12000 | \n",
      "Episode     1500/12000 | \n",
      "Episode     1600/12000 | \n",
      "Episode     1700/12000 | \n",
      "Episode     1800/12000 | \n",
      "Episode     1900/12000 | \n",
      "Episode     2000/12000 | \n",
      "Episode     2100/12000 | \n",
      "Episode     2200/12000 | \n",
      "Episode     2300/12000 | \n",
      "Episode     2400/12000 | \n",
      "Episode     2500/12000 | \n",
      "Episode     2600/12000 | \n",
      "Episode     2700/12000 | \n",
      "Episode     2800/12000 | \n",
      "Episode     2900/12000 | \n",
      "Episode     3000/12000 | \n",
      "Episode     3100/12000 | \n",
      "Episode     3200/12000 | \n",
      "Episode     3300/12000 | \n",
      "Episode     3400/12000 | \n",
      "Episode     3500/12000 | \n",
      "Episode     3600/12000 | \n",
      "Episode     3700/12000 | \n",
      "Episode     3800/12000 | \n",
      "Episode     3900/12000 | \n",
      "Episode     4000/12000 | \n",
      "Episode     4100/12000 | \n",
      "Episode     4200/12000 | \n",
      "Episode     4300/12000 | \n",
      "Episode     4400/12000 | \n",
      "Episode     4500/12000 | \n",
      "Episode     4600/12000 | \n",
      "Episode     4700/12000 | \n",
      "Episode     4800/12000 | \n",
      "Episode     4900/12000 | \n",
      "Episode     5000/12000 | \n",
      "Episode     5100/12000 | \n",
      "Episode     5200/12000 | \n",
      "Episode     5300/12000 | \n",
      "Episode     5400/12000 | \n",
      "Episode     5500/12000 | \n",
      "Episode     5600/12000 | \n",
      "Episode     5700/12000 | \n",
      "Episode     5800/12000 | \n",
      "Episode     5900/12000 | \n",
      "Episode     6000/12000 | \n",
      "Episode     6100/12000 | \n",
      "Episode     6200/12000 | \n",
      "Episode     6300/12000 | \n",
      "Episode     6400/12000 | \n",
      "Episode     6500/12000 | \n",
      "Episode     6600/12000 | \n",
      "Episode     6700/12000 | \n",
      "Episode     6800/12000 | \n",
      "Episode     6900/12000 | \n",
      "Episode     7000/12000 | \n",
      "Episode     7100/12000 | \n",
      "Episode     7200/12000 | \n",
      "Episode     7300/12000 | \n",
      "Episode     7400/12000 | \n",
      "Episode     7500/12000 | \n",
      "Episode     7600/12000 | \n",
      "Episode     7700/12000 | \n",
      "Episode     7800/12000 | \n",
      "Episode     7900/12000 | \n",
      "Episode     8000/12000 | \n",
      "Episode     8100/12000 | \n",
      "Episode     8200/12000 | \n",
      "Episode     8300/12000 | \n",
      "Episode     8400/12000 | \n",
      "Episode     8500/12000 | \n",
      "Episode     8600/12000 | \n",
      "Episode     8700/12000 | \n",
      "Episode     8800/12000 | \n",
      "Episode     8900/12000 | \n",
      "Episode     9000/12000 | \n",
      "Episode     9100/12000 | \n",
      "Episode     9200/12000 | \n",
      "Episode     9300/12000 | \n",
      "Episode     9400/12000 | \n",
      "Episode     9500/12000 | \n",
      "Episode     9600/12000 | \n",
      "Episode     9700/12000 | \n",
      "Episode     9800/12000 | \n",
      "Episode     9900/12000 | \n",
      "Episode    10000/12000 | \n",
      "Episode    10100/12000 | \n",
      "Episode    10200/12000 | \n",
      "Episode    10300/12000 | \n",
      "Episode    10400/12000 | \n",
      "Episode    10500/12000 | \n",
      "Episode    10600/12000 | \n",
      "Episode    10700/12000 | \n",
      "Episode    10800/12000 | \n",
      "Episode    10900/12000 | \n",
      "Episode    11000/12000 | \n",
      "Episode    11100/12000 | \n",
      "Episode    11200/12000 | \n",
      "Episode    11300/12000 | \n",
      "Episode    11400/12000 | \n",
      "Episode    11500/12000 | \n",
      "Episode    11600/12000 | \n",
      "Episode    11700/12000 | \n",
      "Episode    11800/12000 | \n",
      "Episode    11900/12000 | \n"
     ]
    }
   ],
   "source": [
    "successful_episodes = 0\n",
    "verbose_step = 100\n",
    "n_char = 5\n",
    "for successful_episodes in range(12000):\n",
    "    if successful_episodes % verbose_step == 0 or successful_episodes == 12000:\n",
    "        print(f'Episode {successful_episodes:8}/{12000} | ')\n",
    "\n"
   ]
  }
 ],
 "metadata": {
  "kernelspec": {
   "display_name": "rl_env",
   "language": "python",
   "name": "python3"
  },
  "language_info": {
   "codemirror_mode": {
    "name": "ipython",
    "version": 3
   },
   "file_extension": ".py",
   "mimetype": "text/x-python",
   "name": "python",
   "nbconvert_exporter": "python",
   "pygments_lexer": "ipython3",
   "version": "3.10.6"
  }
 },
 "nbformat": 4,
 "nbformat_minor": 2
}
