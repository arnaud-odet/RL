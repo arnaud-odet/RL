{
 "cells": [
  {
   "cell_type": "code",
   "execution_count": 1,
   "metadata": {},
   "outputs": [],
   "source": [
    "import pandas as pd\n",
    "import numpy as np\n",
    "import matplotlib.pyplot as plt\n",
    "\n",
    "%reload_ext autoreload\n",
    "%autoreload 2"
   ]
  },
  {
   "cell_type": "code",
   "execution_count": 19,
   "metadata": {},
   "outputs": [
    {
     "data": {
      "text/plain": [
       "(np.float64(0.5249791874789399),\n",
       " np.float64(0.7964304128897277),\n",
       " np.float64(0.47502081252106))"
      ]
     },
     "execution_count": 19,
     "metadata": {},
     "output_type": "execute_result"
    }
   ],
   "source": [
    "t1s = 1\n",
    "t2s = 0.9\n",
    "max_draw_prob = 0.3\n",
    "# Base probability of team1 winning\n",
    "strength_diff = t1s - t2s\n",
    "win_prob = 1 / (1 + np.exp(-strength_diff))\n",
    "loss_prob = 1 / (1 + np.exp(+strength_diff))\n",
    "# Draw probability inversely proportional to strength difference\n",
    "# Maximum draw probability is 0.3 when strengths are equal\n",
    "draw_prob = max_draw_prob * np.exp(-abs(strength_diff))\n",
    "\n",
    "win_prob, win_prob + draw_prob, loss_prob"
   ]
  }
 ],
 "metadata": {
  "kernelspec": {
   "display_name": "rl_env",
   "language": "python",
   "name": "python3"
  },
  "language_info": {
   "codemirror_mode": {
    "name": "ipython",
    "version": 3
   },
   "file_extension": ".py",
   "mimetype": "text/x-python",
   "name": "python",
   "nbconvert_exporter": "python",
   "pygments_lexer": "ipython3",
   "version": "3.10.6"
  }
 },
 "nbformat": 4,
 "nbformat_minor": 2
}
