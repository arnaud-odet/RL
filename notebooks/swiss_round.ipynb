{
 "cells": [
  {
   "cell_type": "code",
   "execution_count": 1,
   "metadata": {},
   "outputs": [],
   "source": [
    "import pandas as pd\n",
    "import numpy as np\n",
    "\n",
    "from rl_lib.swiss_round.environment import SwissRoundEnv\n",
    "%reload_ext autoreload\n",
    "%autoreload 2"
   ]
  },
  {
   "cell_type": "code",
   "execution_count": null,
   "metadata": {},
   "outputs": [
    {
     "name": "stdout",
     "output_type": "stream",
     "text": [
      "--- Simulating round n°1 ---\n",
      "Game : Team 5 (points : 0, strength : 0.75) vs Team 12 (points : 0, strength : 0.40) : Team 5 wins\n",
      "Game : Team 8 (points : 0, strength : 0.60) vs Team 17 (points : 0, strength : 0.15) : Draw\n",
      "Game : Team 2 (points : 0, strength : 0.90) vs Team 10 (points : 0, strength : 0.50) : Team 2 wins\n",
      "Game : Team 15 (points : 0, strength : 0.25) vs Team 1 (points : 0, strength : 0.95) : Team 1 wins\n",
      "Game : Team 11 (points : 0, strength : 0.45) vs Team 13 (points : 0, strength : 0.35) : Team 13 wins\n",
      "Game : Team 3 (points : 0, strength : 0.85) vs Team 16 (points : 0, strength : 0.20) : Draw\n",
      "Game : Team 7 (points : 0, strength : 0.65) vs Team 9 (points : 0, strength : 0.55) : Team 9 wins\n",
      "Game : Team 14 (points : 0, strength : 0.30) vs Team 6 (points : 0, strength : 0.70) : Team 14 wins\n",
      "Game : Team 0 (points : 0, strength : 1.00) vs Team 4 (points : 0, strength : 0.80) : Draw\n",
      "--- Simulating round n°2 ---\n",
      "Game : Team 1 (points : 3, strength : 0.95) vs Team 2 (points : 3, strength : 0.90) : Draw\n",
      "Game : Team 5 (points : 3, strength : 0.75) vs Team 9 (points : 3, strength : 0.55) : Team 9 wins\n",
      "Game : Team 13 (points : 3, strength : 0.35) vs Team 14 (points : 3, strength : 0.30) : Team 13 wins\n",
      "Game : Team 0 (points : 1, strength : 1.00) vs Team 3 (points : 1, strength : 0.85) : Team 3 wins\n",
      "Game : Team 4 (points : 1, strength : 0.80) vs Team 8 (points : 1, strength : 0.60) : Team 4 wins\n",
      "Game : Team 16 (points : 1, strength : 0.20) vs Team 17 (points : 1, strength : 0.15) : Team 17 wins\n",
      "Game : Team 6 (points : 0, strength : 0.70) vs Team 7 (points : 0, strength : 0.65) : Team 7 wins\n",
      "Game : Team 10 (points : 0, strength : 0.50) vs Team 11 (points : 0, strength : 0.45) : Draw\n",
      "Game : Team 12 (points : 0, strength : 0.40) vs Team 15 (points : 0, strength : 0.25) : Team 15 wins\n",
      "--- Simulating round n°3 ---\n",
      "Game : Team 9 (points : 6, strength : 0.55) vs Team 13 (points : 6, strength : 0.35) : Team 9 wins\n",
      "Game : Team 1 (points : 4, strength : 0.95) vs Team 3 (points : 4, strength : 0.85) : Team 1 wins\n",
      "Game : Team 2 (points : 4, strength : 0.90) vs Team 4 (points : 4, strength : 0.80) : Team 4 wins\n",
      "Game : Team 17 (points : 4, strength : 0.15) vs Team 5 (points : 3, strength : 0.75) : Team 5 wins\n",
      "Game : Team 7 (points : 3, strength : 0.65) vs Team 14 (points : 3, strength : 0.30) : Team 14 wins\n",
      "Game : Team 15 (points : 3, strength : 0.25) vs Team 0 (points : 1, strength : 1.00) : Team 15 wins\n",
      "Game : Team 8 (points : 1, strength : 0.60) vs Team 16 (points : 1, strength : 0.20) : Team 16 wins\n",
      "Game : Team 11 (points : 1, strength : 0.45) vs Team 6 (points : 0, strength : 0.70) : Team 6 wins\n",
      "Game : Team 10 (points : 1, strength : 0.50) vs Team 12 (points : 0, strength : 0.40) : Team 10 wins\n",
      "--- Simulating round n°4 ---\n",
      "Game : Team 9 (points : 9, strength : 0.55) vs Team 1 (points : 7, strength : 0.95) : Team 1 wins\n",
      "Game : Team 4 (points : 7, strength : 0.80) vs Team 13 (points : 6, strength : 0.35) : Draw\n",
      "Game : Team 5 (points : 6, strength : 0.75) vs Team 14 (points : 6, strength : 0.30) : Team 14 wins\n",
      "Game : Team 15 (points : 6, strength : 0.25) vs Team 2 (points : 4, strength : 0.90) : Team 2 wins\n",
      "Game : Team 3 (points : 4, strength : 0.85) vs Team 17 (points : 4, strength : 0.15) : Team 17 wins\n",
      "Game : Team 16 (points : 4, strength : 0.20) vs Team 10 (points : 4, strength : 0.50) : Team 16 wins\n",
      "Game : Team 7 (points : 3, strength : 0.65) vs Team 0 (points : 1, strength : 1.00) : Draw\n",
      "Game : Team 6 (points : 3, strength : 0.70) vs Team 8 (points : 1, strength : 0.60) : Draw\n",
      "Game : Team 11 (points : 1, strength : 0.45) vs Team 12 (points : 0, strength : 0.40) : Team 11 wins\n",
      "--- Simulating round n°5 ---\n",
      "Game : Team 1 (points : 10, strength : 0.95) vs Team 14 (points : 9, strength : 0.30) : Team 1 wins\n",
      "Game : Team 9 (points : 9, strength : 0.55) vs Team 4 (points : 8, strength : 0.80) : Team 9 wins\n",
      "Game : Team 13 (points : 7, strength : 0.35) vs Team 2 (points : 7, strength : 0.90) : Team 13 wins\n",
      "Game : Team 17 (points : 7, strength : 0.15) vs Team 15 (points : 6, strength : 0.25) : Team 17 wins\n",
      "Game : Team 16 (points : 7, strength : 0.20) vs Team 5 (points : 6, strength : 0.75) : Draw\n",
      "Game : Team 3 (points : 4, strength : 0.85) vs Team 7 (points : 4, strength : 0.65) : Team 3 wins\n",
      "Game : Team 6 (points : 4, strength : 0.70) vs Team 10 (points : 4, strength : 0.50) : Team 10 wins\n",
      "Game : Team 11 (points : 4, strength : 0.45) vs Team 8 (points : 2, strength : 0.60) : Draw\n",
      "Game : Team 0 (points : 2, strength : 1.00) vs Team 12 (points : 0, strength : 0.40) : Draw\n",
      "--- Simulating round n°6 ---\n",
      "Game : Team 1 (points : 13, strength : 0.95) vs Team 13 (points : 10, strength : 0.35) : Draw\n",
      "Game : Team 9 (points : 12, strength : 0.55) vs Team 17 (points : 10, strength : 0.15) : Team 9 wins\n",
      "Game : Team 14 (points : 9, strength : 0.30) vs Team 4 (points : 8, strength : 0.80) : Team 14 wins\n",
      "Game : Team 16 (points : 8, strength : 0.20) vs Team 2 (points : 7, strength : 0.90) : Team 16 wins\n",
      "Game : Team 5 (points : 7, strength : 0.75) vs Team 3 (points : 7, strength : 0.85) : Team 5 wins\n",
      "Game : Team 10 (points : 7, strength : 0.50) vs Team 15 (points : 6, strength : 0.25) : Draw\n",
      "Game : Team 11 (points : 5, strength : 0.45) vs Team 7 (points : 4, strength : 0.65) : Team 7 wins\n",
      "Game : Team 6 (points : 4, strength : 0.70) vs Team 0 (points : 3, strength : 1.00) : Team 0 wins\n",
      "Game : Team 8 (points : 3, strength : 0.60) vs Team 12 (points : 1, strength : 0.40) : Draw\n",
      "\n",
      "Final standings (team_id, points, opponent_average):\n",
      "Rank 1: Team 9 - Strength 0.55 - Points: 15 - Opponent Avg: 10.00\n",
      "Rank 2: Team 1 - Strength 0.95 - Points: 14 - Opponent Avg: 9.83\n",
      "Rank 3: Team 14 - Strength 0.30 - Points: 12 - Opponent Avg: 9.00\n",
      "Rank 4: Team 13 - Strength 0.35 - Points: 11 - Opponent Avg: 10.17\n",
      "Rank 5: Team 16 - Strength 0.20 - Points: 11 - Opponent Avg: 7.67\n",
      "Rank 6: Team 5 - Strength 0.75 - Points: 10 - Opponent Avg: 9.50\n",
      "Rank 7: Team 17 - Strength 0.15 - Points: 10 - Opponent Avg: 9.00\n",
      "Rank 8: Team 4 - Strength 0.80 - Points: 8 - Opponent Avg: 9.17\n",
      "Rank 9: Team 10 - Strength 0.50 - Points: 8 - Opponent Avg: 6.00\n",
      "Rank 10: Team 2 - Strength 0.90 - Points: 7 - Opponent Avg: 9.83\n",
      "Rank 11: Team 3 - Strength 0.85 - Points: 7 - Opponent Avg: 9.67\n",
      "Rank 12: Team 7 - Strength 0.65 - Points: 7 - Opponent Avg: 8.17\n",
      "Rank 13: Team 15 - Strength 0.25 - Points: 7 - Opponent Avg: 7.83\n",
      "Rank 14: Team 0 - Strength 1.00 - Points: 6 - Opponent Avg: 5.83\n",
      "Rank 15: Team 11 - Strength 0.45 - Points: 5 - Opponent Avg: 6.00\n",
      "Rank 16: Team 6 - Strength 0.70 - Points: 4 - Opponent Avg: 7.00\n",
      "Rank 17: Team 8 - Strength 0.60 - Points: 4 - Opponent Avg: 6.67\n",
      "Rank 18: Team 12 - Strength 0.40 - Points: 2 - Opponent Avg: 6.67\n"
     ]
    }
   ],
   "source": [
    "n_teams = 18\n",
    "n_rounds = 6\n",
    "team_strengths = [1 - 0.05 * i for i in range(n_teams)]\n",
    "threshold_ranks = [4,12]\n",
    "bonus_points = [20,10]\n",
    "\n",
    "env = SwissRoundEnv(\n",
    "    n_teams=n_teams,\n",
    "    n_rounds=n_rounds,\n",
    "    team_strengths=team_strengths,\n",
    "    threshold_ranks=threshold_ranks,\n",
    "    bonus_points=bonus_points,\n",
    "    agent_id=None,\n",
    "    max_draw_probability=0.3\n",
    ")"
   ]
  },
  {
   "cell_type": "code",
   "execution_count": 4,
   "metadata": {},
   "outputs": [
    {
     "name": "stderr",
     "output_type": "stream",
     "text": [
      "Simulating tournaments: 100%|██████████| 1000/1000 [00:06<00:00, 160.45it/s]"
     ]
    },
    {
     "name": "stdout",
     "output_type": "stream",
     "text": [
      "Warning: 13 simulations failed out of 1000 (1.3%)\n",
      "\n",
      "Simulation Results (from 1000 tournaments using 24 cores):\n",
      "Team | Strength | Avg Points | Avg Rank | Top-4 % | Top-12 % | \n",
      "------------------------------------------------------\n",
      "   0 |     1.00 |      10.24 |     6.83 |  40.83% |  83.99% | \n",
      "   1 |     0.95 |       9.68 |     7.59 |  32.62% |  79.64% | \n",
      "   2 |     0.90 |       9.66 |     7.65 |  34.25% |  79.43% | \n",
      "   3 |     0.85 |       9.39 |     8.02 |  31.10% |  78.12% | \n",
      "   4 |     0.80 |       9.02 |     8.62 |  26.14% |  73.86% | \n",
      "   5 |     0.75 |       8.87 |     8.80 |  26.65% |  71.73% | \n",
      "   6 |     0.70 |       9.01 |     8.63 |  25.23% |  74.87% | \n",
      "   7 |     0.65 |       8.58 |     9.32 |  22.90% |  69.10% | \n",
      "   8 |     0.60 |       8.41 |     9.58 |  20.97% |  66.16% | \n",
      "   9 |     0.55 |       8.50 |     9.42 |  22.19% |  68.09% | \n",
      "  10 |     0.50 |       8.18 |     9.89 |  18.74% |  65.45% | \n",
      "  11 |     0.45 |       7.96 |    10.25 |  17.33% |  62.61% | \n",
      "  12 |     0.40 |       7.95 |    10.26 |  16.92% |  61.40% | \n",
      "  13 |     0.35 |       7.47 |    10.95 |  13.98% |  55.12% | \n",
      "  14 |     0.30 |       7.56 |    10.87 |  13.78% |  56.03% | \n",
      "  15 |     0.25 |       7.41 |    11.10 |  14.99% |  53.90% | \n",
      "  16 |     0.20 |       7.27 |    11.32 |  12.66% |  52.68% | \n",
      "  17 |     0.15 |       6.92 |    11.92 |   8.71% |  47.82% | \n"
     ]
    },
    {
     "name": "stderr",
     "output_type": "stream",
     "text": [
      "\n"
     ]
    }
   ],
   "source": [
    "simulation = env.simulate_n_tournaments(1000,24, display_results=True)"
   ]
  },
  {
   "cell_type": "code",
   "execution_count": null,
   "metadata": {},
   "outputs": [],
   "source": [
    "# Simulate tournament\n",
    "final_standings = env.simulate_tournament(verbose= True)\n",
    "\n",
    "print(\"\\nFinal standings (team_id, points, opponent_average):\")\n",
    "for rank, (team_id, points, opp_avg,strength) in enumerate(final_standings, 1):\n",
    "\n",
    "    print(f\"Rank {rank}: Team {team_id} - Strength {strength:.2f} - Points: {points} - Opponent Avg: {opp_avg:.2f}\")\n"
   ]
  }
 ],
 "metadata": {
  "kernelspec": {
   "display_name": "rl_env",
   "language": "python",
   "name": "python3"
  },
  "language_info": {
   "codemirror_mode": {
    "name": "ipython",
    "version": 3
   },
   "file_extension": ".py",
   "mimetype": "text/x-python",
   "name": "python",
   "nbconvert_exporter": "python",
   "pygments_lexer": "ipython3",
   "version": "3.10.6"
  }
 },
 "nbformat": 4,
 "nbformat_minor": 2
}
